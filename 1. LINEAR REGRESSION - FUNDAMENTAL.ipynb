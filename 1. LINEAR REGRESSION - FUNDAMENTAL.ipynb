{
 "cells": [
  {
   "cell_type": "markdown",
   "metadata": {},
   "source": [
    "## LINEAR REGRESSION \n",
    "Concep\n",
    "- Fit a line to data set of observation\n",
    "- Using the line to *predict* unobserved values.\n",
    "- This regression is not time dependency guys\n",
    "\n",
    "\n",
    "## How does it work?\n",
    "- Usually using OLS \"Ordinary Least Square\". OLS minimizes the sum of squared errors = maximizing likelihood of the observed data.\n",
    "- This regression minimizes square error between each poin and the line\n",
    "- Slope-intercept equation of line : y=mx+b\n",
    "- **Slope (m)**  is correlation between 2 variables times standar deviation in Y, all devided by stdev in X\n",
    "    - m = (Y2-Y1)/(X2-X1)\n",
    "    - b means where the line begins, b= y - intercept\n",
    "- **Intercept** is the mean(average) of Y minus Slope  times mean of X\n",
    "\n",
    "mathwarehouse.com/algebra/linear_equation/slope-intercept-form.php\n",
    "\n",
    "- We can use Gradient decent as alternative method to least squares.\n",
    "\n",
    "## How do I know my model is good?\n",
    "- Measure your error with **r-squared ( coefficient of determination)**\n",
    "\n",
    "#### Interpreting r-square\n",
    "    - range from 0-1\n",
    "    - 0 is bad,1 is good(it means all of the variance captured)\n",
    "\n"
   ]
  },
  {
   "cell_type": "code",
   "execution_count": 1,
   "metadata": {},
   "outputs": [],
   "source": [
    "%matplotlib inline\n",
    "import matplotlib.pyplot as plt\n",
    "import numpy as np\n",
    "import pandas as pd"
   ]
  },
  {
   "cell_type": "code",
   "execution_count": 2,
   "metadata": {},
   "outputs": [
    {
     "name": "stdout",
     "output_type": "stream",
     "text": [
      "(237, 4)\n"
     ]
    },
    {
     "data": {
      "text/html": [
       "<div>\n",
       "<style scoped>\n",
       "    .dataframe tbody tr th:only-of-type {\n",
       "        vertical-align: middle;\n",
       "    }\n",
       "\n",
       "    .dataframe tbody tr th {\n",
       "        vertical-align: top;\n",
       "    }\n",
       "\n",
       "    .dataframe thead th {\n",
       "        text-align: right;\n",
       "    }\n",
       "</style>\n",
       "<table border=\"1\" class=\"dataframe\">\n",
       "  <thead>\n",
       "    <tr style=\"text-align: right;\">\n",
       "      <th></th>\n",
       "      <th>Gender</th>\n",
       "      <th>Age Range</th>\n",
       "      <th>Head Size(cm^3)</th>\n",
       "      <th>Brain Weight(grams)</th>\n",
       "    </tr>\n",
       "  </thead>\n",
       "  <tbody>\n",
       "    <tr>\n",
       "      <th>0</th>\n",
       "      <td>1</td>\n",
       "      <td>1</td>\n",
       "      <td>4512</td>\n",
       "      <td>1530</td>\n",
       "    </tr>\n",
       "    <tr>\n",
       "      <th>1</th>\n",
       "      <td>1</td>\n",
       "      <td>1</td>\n",
       "      <td>3738</td>\n",
       "      <td>1297</td>\n",
       "    </tr>\n",
       "    <tr>\n",
       "      <th>2</th>\n",
       "      <td>1</td>\n",
       "      <td>1</td>\n",
       "      <td>4261</td>\n",
       "      <td>1335</td>\n",
       "    </tr>\n",
       "    <tr>\n",
       "      <th>3</th>\n",
       "      <td>1</td>\n",
       "      <td>1</td>\n",
       "      <td>3777</td>\n",
       "      <td>1282</td>\n",
       "    </tr>\n",
       "    <tr>\n",
       "      <th>4</th>\n",
       "      <td>1</td>\n",
       "      <td>1</td>\n",
       "      <td>4177</td>\n",
       "      <td>1590</td>\n",
       "    </tr>\n",
       "  </tbody>\n",
       "</table>\n",
       "</div>"
      ],
      "text/plain": [
       "   Gender  Age Range  Head Size(cm^3)  Brain Weight(grams)\n",
       "0       1          1             4512                 1530\n",
       "1       1          1             3738                 1297\n",
       "2       1          1             4261                 1335\n",
       "3       1          1             3777                 1282\n",
       "4       1          1             4177                 1590"
      ]
     },
     "execution_count": 2,
     "metadata": {},
     "output_type": "execute_result"
    }
   ],
   "source": [
    "#Read Data\n",
    "df = pd.read_csv('headbrain.csv')\n",
    "print(df.shape)\n",
    "df.head()\n",
    "\n",
    "# Data from https://www.kaggle.com/jemishdonda/headbrain?select=headbrain.csv"
   ]
  },
  {
   "cell_type": "markdown",
   "metadata": {},
   "source": [
    "As you can see we have 237 observations and 4 features"
   ]
  },
  {
   "cell_type": "code",
   "execution_count": 3,
   "metadata": {},
   "outputs": [],
   "source": [
    "#Collect X and Y\n",
    "X = df['Head Size(cm^3)'].values #feature\n",
    "Y = df['Brain Weight(grams)'].values #target"
   ]
  },
  {
   "cell_type": "code",
   "execution_count": 7,
   "metadata": {},
   "outputs": [],
   "source": [
    "#Calculate Mean X and Y\n",
    "\n",
    "mean_x = np.mean(X)\n",
    "mean_y = np.mean(Y)\n",
    "\n",
    "#Total number of values\n",
    "m = len(X)"
   ]
  },
  {
   "cell_type": "code",
   "execution_count": 8,
   "metadata": {},
   "outputs": [
    {
     "name": "stdout",
     "output_type": "stream",
     "text": [
      "0.26342933948939945 325.57342104944223\n"
     ]
    }
   ],
   "source": [
    "#Using formula calculate b1 and b0\n",
    "\n",
    "number = 0\n",
    "denom = 0\n",
    "for i in range(m):\n",
    "        number+= (X[i]-mean_x)*(Y[i]-mean_y)\n",
    "        denom += (X[i]-mean_x)**2\n",
    "b1 = number / denom      # Slope\n",
    "b0 = mean_y -(b1*mean_x)\n",
    "\n",
    "#Print the coefficients\n",
    "print(b1,b0)"
   ]
  },
  {
   "cell_type": "markdown",
   "metadata": {},
   "source": [
    "Our formula **y = mx+b**\n",
    "from the result above \n",
    "we can say that \n",
    "m (brain weight) = 0,263\n",
    "b (headsize) = 325,573\n"
   ]
  },
  {
   "cell_type": "markdown",
   "metadata": {},
   "source": [
    "#### Ploting Value and Regression Line"
   ]
  },
  {
   "cell_type": "code",
   "execution_count": 9,
   "metadata": {},
   "outputs": [],
   "source": [
    "max_x = np.max(X) + 100\n",
    "min_x = np.min(X) - 100\n",
    "\n",
    "#Calculate Line value x and y\n",
    "x = np.linspace(min_x, max_x,1000)\n",
    "y = b1*x + b0"
   ]
  },
  {
   "cell_type": "code",
   "execution_count": 10,
   "metadata": {},
   "outputs": [
    {
     "data": {
      "image/png": "[encoded data removed]",
      "text/plain": [
       "<Figure size 432x288 with 1 Axes>"
      ]
     },
     "metadata": {
      "needs_background": "light"
     },
     "output_type": "display_data"
    }
   ],
   "source": [
    "#Ploting line\n",
    "plt.plot(x,y, color='black', label='Regression Line')\n",
    "\n",
    "#Plot Scatter points\n",
    "plt.scatter(X,Y, color='orange', label='Scatter Plot')\n",
    "\n",
    "plt.xlabel('Head Size in cm3')\n",
    "plt.ylabel('Brain Weight in grams')\n",
    "plt.legend()\n",
    "plt.show()"
   ]
  },
  {
   "cell_type": "markdown",
   "metadata": {},
   "source": [
    "### Find out how good is our model"
   ]
  },
  {
   "cell_type": "code",
   "execution_count": 13,
   "metadata": {},
   "outputs": [
    {
     "name": "stdout",
     "output_type": "stream",
     "text": [
      "0.6393117199570003\n"
     ]
    }
   ],
   "source": [
    "#Calculate R-Square Value\n",
    "ss_t = 0  \n",
    "ss_r = 0\n",
    "for i in range(m) :\n",
    "    y_pred = b1*X[i] + b0\n",
    "    ss_t += (Y[i]- mean_y)** 2\n",
    "    ss_r += (Y[i]- y_pred)** 2\n",
    "r2 = 1-(ss_r/ss_t) # R-square\n",
    "print(r2)"
   ]
  },
  {
   "cell_type": "markdown",
   "metadata": {},
   "source": [
    "As we can se above our R-square = 0,639 , it's quite good enough model"
   ]
  },
  {
   "cell_type": "markdown",
   "metadata": {},
   "source": [
    "## Now Let's try Linear Regression Using Scikitlearn"
   ]
  },
  {
   "cell_type": "code",
   "execution_count": 15,
   "metadata": {},
   "outputs": [],
   "source": [
    "from sklearn.linear_model import LinearRegression\n",
    "from sklearn.metrics import mean_squared_error\n",
    "\n",
    "#Can't use Rank 1 matrix in scikit learn\n",
    "X =X.reshape((m,1))\n",
    "\n",
    "#Creating model\n",
    "reg = LinearRegression()\n",
    "\n",
    "#Fitting training data\n",
    "reg = reg.fit(X,Y)\n",
    "\n",
    "#Y Prediction\n",
    "Y_pred = reg.predict(X)"
   ]
  },
  {
   "cell_type": "code",
   "execution_count": 16,
   "metadata": {},
   "outputs": [
    {
     "name": "stdout",
     "output_type": "stream",
     "text": [
      "0.639311719957\n"
     ]
    }
   ],
   "source": [
    "#Calculate R-square Score\n",
    "r2_score = reg.score(X,Y)\n",
    "print(r2_score)"
   ]
  },
  {
   "cell_type": "code",
   "execution_count": 17,
   "metadata": {},
   "outputs": [
    {
     "data": {
      "image/png": "[encoded data removed]",
      "text/plain": [
       "<Figure size 432x288 with 1 Axes>"
      ]
     },
     "metadata": {
      "needs_background": "light"
     },
     "output_type": "display_data"
    }
   ],
   "source": [
    "#Ploting line\n",
    "plt.plot(x,y, color='black', label='Regression Line')\n",
    "\n",
    "#Plot Scatter points\n",
    "plt.scatter(X,Y, color='orange', label='Scatter Plot')\n",
    "\n",
    "plt.xlabel('Head Size in cm3')\n",
    "plt.ylabel('Brain Weight in grams')\n",
    "plt.legend()\n",
    "plt.show()"
   ]
  },
  {
   "cell_type": "code",
   "execution_count": null,
   "metadata": {},
   "outputs": [],
   "source": []
  }
 ],
 "metadata": {
  "kernelspec": {
   "display_name": "Python 3",
   "language": "python",
   "name": "python3"
  },
  "language_info": {
   "codemirror_mode": {
    "name": "ipython",
    "version": 3
   },
   "file_extension": ".py",
   "mimetype": "text/x-python",
   "name": "python",
   "nbconvert_exporter": "python",
   "pygments_lexer": "ipython3",
   "version": "3.8.5"
  }
 },
 "nbformat": 4,
 "nbformat_minor": 4
}
